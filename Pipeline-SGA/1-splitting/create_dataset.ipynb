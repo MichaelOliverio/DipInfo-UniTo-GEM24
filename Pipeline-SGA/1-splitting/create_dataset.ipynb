{
 "cells": [
  {
   "cell_type": "markdown",
   "metadata": {},
   "source": [
    "# Costruzioni dataset"
   ]
  },
  {
   "cell_type": "code",
   "execution_count": 1,
   "metadata": {},
   "outputs": [],
   "source": [
    "import os\n",
    "import pandas as pd\n",
    "import numpy as np\n",
    "import xml.etree.ElementTree as ET\n",
    "import xml.dom.minidom as minidom"
   ]
  },
  {
   "cell_type": "markdown",
   "metadata": {},
   "source": [
    "## Variabili"
   ]
  },
  {
   "cell_type": "code",
   "execution_count": 2,
   "metadata": {},
   "outputs": [],
   "source": [
    "flag_shape = True\n",
    "flag_shape_type = True\n",
    "flag_size = True"
   ]
  },
  {
   "cell_type": "markdown",
   "metadata": {},
   "source": [
    "## GEM"
   ]
  },
  {
   "cell_type": "code",
   "execution_count": 14,
   "metadata": {},
   "outputs": [
    {
     "name": "stdout",
     "output_type": "stream",
     "text": [
      "GEM-data\\D2T-1-CFA_WebNLG_CounterFactual.xml\n",
      "GEM-data\\D2T-1-FA_WebNLG_Factual.xml\n",
      "GEM-data\\D2T-1-FI_WebNLG_Fictional.xml\n",
      "GEM-data\\D2T-2-CFA_Wikidata_CounterFactual.xml\n",
      "GEM-data\\D2T-2-FA_Wikidata_Factual.xml\n",
      "GEM-data\\D2T-2-FI_Wikidata_Fictional.xml\n"
     ]
    }
   ],
   "source": [
    "path = \"GEM-data\"\n",
    "\n",
    "file_names = []\n",
    "for file_name in os.listdir(path):\n",
    "    dataset = []\n",
    "\n",
    "    if os.path.isfile(os.path.join(path, file_name)):\n",
    "        url = os.path.join(path, file_name)\n",
    "        print(url)\n",
    "        tree = ET.parse(url)\n",
    "        root = tree.getroot()\n",
    "\n",
    "        shape = ''\n",
    "        shape_type = ''\n",
    "        size = 0\n",
    "        for entry in root.iter('entry'):\n",
    "            if flag_shape:\n",
    "                shape = entry.get('shape')\n",
    "\n",
    "            if flag_shape_type:\n",
    "                shape_type = entry.get('shape_type')\n",
    "            \n",
    "            if flag_size:\n",
    "                size = entry.get('size')\n",
    "\n",
    "            mts = []\n",
    "\n",
    "            for modifiedtripleset in entry.iter('modifiedtripleset'):\n",
    "                mtriples = \"\"\n",
    "\n",
    "                triples = []\n",
    "                for mtriple in modifiedtripleset.iter('mtriple'):  \n",
    "                    triple = mtriple.text.split(\" | \")\n",
    "                    triple = (triple[0], triple[1], triple[2])\n",
    "                    triples.append(triple)\n",
    "\n",
    "                triples.sort(key=lambda x: x[1])\n",
    "                for triple in triples:\n",
    "                    mtriples += triple[0] + \" \" + triple[1] + \" \" + triple[2] + \" \"\n",
    "                            \n",
    "                mts.append(mtriples)\n",
    "\n",
    "            for mt in mts:\n",
    "                dataset.append([mt, '', shape, shape_type, size])\n",
    "\n",
    "        dataset = np.array(dataset)\n",
    "\n",
    "        dataset_pd = pd.DataFrame(dataset, columns=['triple', 'sentence', 'shape', 'shape_type', 'size'])\n",
    "\n",
    "        #remove from filename .xml\n",
    "        dataset_pd.to_csv(\"pre-processed-data\\\\\" + file_name[:-4] + \".csv\", index=False)"
   ]
  },
  {
   "cell_type": "markdown",
   "metadata": {},
   "source": [
    "## WebNLG"
   ]
  },
  {
   "cell_type": "code",
   "execution_count": 15,
   "metadata": {},
   "outputs": [],
   "source": [
    "dataset_types = [\"train\", \"dev\"] \n",
    "triple_numbers = [\"1\", \"2\", \"3\", \"4\", \"5\", \"6\", \"7\"]\n",
    "\n",
    "for dataset_type in dataset_types:\n",
    "    dataset = []\n",
    "\n",
    "    for triple_number in triple_numbers:\n",
    "        path = \"WebNLG-3.0\\\\\" + dataset_type + \"\\\\\" + triple_number + \"triples\"\n",
    "        file_names = []\n",
    "        for file_name in os.listdir(path):\n",
    "            if os.path.isfile(os.path.join(path, file_name)):\n",
    "                url = os.path.join(path, file_name)\n",
    "                tree = ET.parse(url)\n",
    "                root = tree.getroot()\n",
    "\n",
    "                shape = ''\n",
    "                shape_type = ''\n",
    "                size = 1\n",
    "                for entry in root.iter('entry'):\n",
    "                    if flag_shape:\n",
    "                        shape = entry.get('shape')\n",
    "\n",
    "                    if flag_shape_type:\n",
    "                        shape_type = entry.get('shape_type')\n",
    "\n",
    "                    if flag_size:\n",
    "                        size = entry.get('size')\n",
    "\n",
    "                    mts = []\n",
    "                    \n",
    "                    for modifiedtripleset in entry.iter('modifiedtripleset'):\n",
    "                        mtriples = \"\"\n",
    "\n",
    "                        triples = []\n",
    "                        for mtriple in modifiedtripleset.iter('mtriple'):  \n",
    "                            triple = mtriple.text.split(\" | \")\n",
    "                            triple = (triple[0], triple[1], triple[2])\n",
    "                            triples.append(triple)\n",
    "\n",
    "                        triples.sort(key=lambda x: x[1])\n",
    "                        for triple in triples:\n",
    "                            mtriples += triple[0] + \" \" + triple[1] + \" \" + triple[2] + \" \"\n",
    "\n",
    "                        mts.append(mtriples)\n",
    "\n",
    "                    lexs = []\n",
    "                    for lex in entry.iter('lex'):\n",
    "                        lexs.append(lex.text)\n",
    "\n",
    "                    for mt in mts:\n",
    "                        for lex in lexs:\n",
    "                            i += 1\n",
    "                            dataset.append([mt, lex, shape, shape_type, size])\n",
    "\n",
    "    dataset = np.array(dataset)\n",
    "\n",
    "    dataset_pd = pd.DataFrame(dataset, columns=['triple', 'sentence', 'shape', 'shape_type', 'size'])\n",
    "    dataset_pd.to_csv(\"pre-processed-data\\\\\" + dataset_type + \".csv\", index=False)"
   ]
  }
 ],
 "metadata": {
  "kernelspec": {
   "display_name": "Python 3",
   "language": "python",
   "name": "python3"
  },
  "language_info": {
   "codemirror_mode": {
    "name": "ipython",
    "version": 3
   },
   "file_extension": ".py",
   "mimetype": "text/x-python",
   "name": "python",
   "nbconvert_exporter": "python",
   "pygments_lexer": "ipython3",
   "version": "3.12.3"
  },
  "orig_nbformat": 4
 },
 "nbformat": 4,
 "nbformat_minor": 2
}
